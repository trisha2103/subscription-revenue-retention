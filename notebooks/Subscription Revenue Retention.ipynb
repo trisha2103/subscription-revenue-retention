{
 "cells": [
  {
   "cell_type": "code",
   "execution_count": 5,
   "id": "ecdd501f-7169-4412-aca5-5007894dc79c",
   "metadata": {},
   "outputs": [
    {
     "name": "stdout",
     "output_type": "stream",
     "text": [
      "Requirement already satisfied: pandas in /Users/trisharaj/Downloads/anaconda3/lib/python3.13/site-packages (2.2.3)\n",
      "Requirement already satisfied: numpy in /Users/trisharaj/Downloads/anaconda3/lib/python3.13/site-packages (2.1.3)\n",
      "Requirement already satisfied: matplotlib in /Users/trisharaj/Downloads/anaconda3/lib/python3.13/site-packages (3.10.0)\n",
      "Requirement already satisfied: scikit-learn in /Users/trisharaj/Downloads/anaconda3/lib/python3.13/site-packages (1.6.1)\n",
      "Collecting lifelines\n",
      "  Downloading lifelines-0.30.0-py3-none-any.whl.metadata (3.2 kB)\n",
      "Requirement already satisfied: sqlalchemy in /Users/trisharaj/Downloads/anaconda3/lib/python3.13/site-packages (2.0.39)\n",
      "Requirement already satisfied: python-dateutil>=2.8.2 in /Users/trisharaj/Downloads/anaconda3/lib/python3.13/site-packages (from pandas) (2.9.0.post0)\n",
      "Requirement already satisfied: pytz>=2020.1 in /Users/trisharaj/Downloads/anaconda3/lib/python3.13/site-packages (from pandas) (2024.1)\n",
      "Requirement already satisfied: tzdata>=2022.7 in /Users/trisharaj/Downloads/anaconda3/lib/python3.13/site-packages (from pandas) (2025.2)\n",
      "Requirement already satisfied: contourpy>=1.0.1 in /Users/trisharaj/Downloads/anaconda3/lib/python3.13/site-packages (from matplotlib) (1.3.1)\n",
      "Requirement already satisfied: cycler>=0.10 in /Users/trisharaj/Downloads/anaconda3/lib/python3.13/site-packages (from matplotlib) (0.11.0)\n",
      "Requirement already satisfied: fonttools>=4.22.0 in /Users/trisharaj/Downloads/anaconda3/lib/python3.13/site-packages (from matplotlib) (4.55.3)\n",
      "Requirement already satisfied: kiwisolver>=1.3.1 in /Users/trisharaj/Downloads/anaconda3/lib/python3.13/site-packages (from matplotlib) (1.4.8)\n",
      "Requirement already satisfied: packaging>=20.0 in /Users/trisharaj/Downloads/anaconda3/lib/python3.13/site-packages (from matplotlib) (24.2)\n",
      "Requirement already satisfied: pillow>=8 in /Users/trisharaj/Downloads/anaconda3/lib/python3.13/site-packages (from matplotlib) (11.1.0)\n",
      "Requirement already satisfied: pyparsing>=2.3.1 in /Users/trisharaj/Downloads/anaconda3/lib/python3.13/site-packages (from matplotlib) (3.2.0)\n",
      "Requirement already satisfied: scipy>=1.6.0 in /Users/trisharaj/Downloads/anaconda3/lib/python3.13/site-packages (from scikit-learn) (1.15.3)\n",
      "Requirement already satisfied: joblib>=1.2.0 in /Users/trisharaj/Downloads/anaconda3/lib/python3.13/site-packages (from scikit-learn) (1.4.2)\n",
      "Requirement already satisfied: threadpoolctl>=3.1.0 in /Users/trisharaj/Downloads/anaconda3/lib/python3.13/site-packages (from scikit-learn) (3.5.0)\n",
      "Collecting autograd>=1.5 (from lifelines)\n",
      "  Downloading autograd-1.8.0-py3-none-any.whl.metadata (7.5 kB)\n",
      "Collecting autograd-gamma>=0.3 (from lifelines)\n",
      "  Downloading autograd-gamma-0.5.0.tar.gz (4.0 kB)\n",
      "  Preparing metadata (setup.py) ... \u001b[?25ldone\n",
      "\u001b[?25hCollecting formulaic>=0.2.2 (from lifelines)\n",
      "  Downloading formulaic-1.2.0-py3-none-any.whl.metadata (7.0 kB)\n",
      "Requirement already satisfied: typing-extensions>=4.6.0 in /Users/trisharaj/Downloads/anaconda3/lib/python3.13/site-packages (from sqlalchemy) (4.12.2)\n",
      "Collecting interface-meta>=1.2.0 (from formulaic>=0.2.2->lifelines)\n",
      "  Downloading interface_meta-1.3.0-py3-none-any.whl.metadata (6.7 kB)\n",
      "Requirement already satisfied: narwhals>=1.17 in /Users/trisharaj/Downloads/anaconda3/lib/python3.13/site-packages (from formulaic>=0.2.2->lifelines) (1.31.0)\n",
      "Requirement already satisfied: wrapt>=1.17.0rc1 in /Users/trisharaj/Downloads/anaconda3/lib/python3.13/site-packages (from formulaic>=0.2.2->lifelines) (1.17.0)\n",
      "Requirement already satisfied: six>=1.5 in /Users/trisharaj/Downloads/anaconda3/lib/python3.13/site-packages (from python-dateutil>=2.8.2->pandas) (1.17.0)\n",
      "Downloading lifelines-0.30.0-py3-none-any.whl (349 kB)\n",
      "Downloading autograd-1.8.0-py3-none-any.whl (51 kB)\n",
      "Downloading formulaic-1.2.0-py3-none-any.whl (117 kB)\n",
      "Downloading interface_meta-1.3.0-py3-none-any.whl (14 kB)\n",
      "Building wheels for collected packages: autograd-gamma\n",
      "\u001b[33m  DEPRECATION: Building 'autograd-gamma' using the legacy setup.py bdist_wheel mechanism, which will be removed in a future version. pip 25.3 will enforce this behaviour change. A possible replacement is to use the standardized build interface by setting the `--use-pep517` option, (possibly combined with `--no-build-isolation`), or adding a `pyproject.toml` file to the source tree of 'autograd-gamma'. Discussion can be found at https://github.com/pypa/pip/issues/6334\u001b[0m\u001b[33m\n",
      "  Building wheel for autograd-gamma (setup.py) ... \u001b[?25done\n",
      "\u001b[?25h  Created wheel for autograd-gamma: filename=autograd_gamma-0.5.0-py3-none-any.whl size=4030 sha256=71166fcc840963daa0056b48d6801e20cfd15f4a213364bc0d38ce29c689a386\n",
      "  Stored in directory: /Users/trisharaj/Library/Caches/pip/wheels/7e/16/46/9477f188924292d3bf1fb8fb42844201591abfc19b7ba6d868\n",
      "Successfully built autograd-gamma\n",
      "Installing collected packages: interface-meta, autograd, autograd-gamma, formulaic, lifelines\n",
      "\u001b[2K   \u001b[90m━━━━━━━━━━━━━━━━━━━━━━━━━━━━━━━━━━━━━━━━\u001b[0m \u001b[32m5/5\u001b[0m [lifelines]/5\u001b[0m [lifelines]\n",
      "Successfully installed autograd-1.8.0 autograd-gamma-0.5.0 formulaic-1.2.0 interface-meta-1.3.0 lifelines-0.30.0\n",
      "Note: you may need to restart the kernel to use updated packages.\n"
     ]
    }
   ],
   "source": [
    "pip install pandas numpy matplotlib scikit-learn lifelines sqlalchemy\n"
   ]
  },
  {
   "cell_type": "code",
   "execution_count": 1,
   "id": "cbc0c9e9-a7f5-4417-a060-0adebe869342",
   "metadata": {},
   "outputs": [
    {
     "data": {
      "text/html": [
       "<div>\n",
       "<style scoped>\n",
       "    .dataframe tbody tr th:only-of-type {\n",
       "        vertical-align: middle;\n",
       "    }\n",
       "\n",
       "    .dataframe tbody tr th {\n",
       "        vertical-align: top;\n",
       "    }\n",
       "\n",
       "    .dataframe thead th {\n",
       "        text-align: right;\n",
       "    }\n",
       "</style>\n",
       "<table border=\"1\" class=\"dataframe\">\n",
       "  <thead>\n",
       "    <tr style=\"text-align: right;\">\n",
       "      <th></th>\n",
       "      <th>customer_id</th>\n",
       "      <th>month</th>\n",
       "      <th>mrr</th>\n",
       "      <th>contract_type</th>\n",
       "      <th>churn_flag</th>\n",
       "      <th>cohort_month</th>\n",
       "      <th>is_active</th>\n",
       "    </tr>\n",
       "  </thead>\n",
       "  <tbody>\n",
       "    <tr>\n",
       "      <th>0</th>\n",
       "      <td>7590-VHVEG</td>\n",
       "      <td>2023-05-01</td>\n",
       "      <td>29.85</td>\n",
       "      <td>Month-to-month</td>\n",
       "      <td>0</td>\n",
       "      <td>2023-05-01</td>\n",
       "      <td>1</td>\n",
       "    </tr>\n",
       "    <tr>\n",
       "      <th>1</th>\n",
       "      <td>5575-GNVDE</td>\n",
       "      <td>2022-03-01</td>\n",
       "      <td>56.95</td>\n",
       "      <td>One year</td>\n",
       "      <td>0</td>\n",
       "      <td>2022-03-01</td>\n",
       "      <td>1</td>\n",
       "    </tr>\n",
       "    <tr>\n",
       "      <th>2</th>\n",
       "      <td>5575-GNVDE</td>\n",
       "      <td>2022-04-01</td>\n",
       "      <td>56.95</td>\n",
       "      <td>One year</td>\n",
       "      <td>0</td>\n",
       "      <td>2022-03-01</td>\n",
       "      <td>1</td>\n",
       "    </tr>\n",
       "    <tr>\n",
       "      <th>3</th>\n",
       "      <td>5575-GNVDE</td>\n",
       "      <td>2022-05-01</td>\n",
       "      <td>56.95</td>\n",
       "      <td>One year</td>\n",
       "      <td>0</td>\n",
       "      <td>2022-03-01</td>\n",
       "      <td>1</td>\n",
       "    </tr>\n",
       "    <tr>\n",
       "      <th>4</th>\n",
       "      <td>5575-GNVDE</td>\n",
       "      <td>2022-06-01</td>\n",
       "      <td>56.95</td>\n",
       "      <td>One year</td>\n",
       "      <td>0</td>\n",
       "      <td>2022-03-01</td>\n",
       "      <td>1</td>\n",
       "    </tr>\n",
       "  </tbody>\n",
       "</table>\n",
       "</div>"
      ],
      "text/plain": [
       "  customer_id      month    mrr   contract_type  churn_flag cohort_month  \\\n",
       "0  7590-VHVEG 2023-05-01  29.85  Month-to-month           0   2023-05-01   \n",
       "1  5575-GNVDE 2022-03-01  56.95        One year           0   2022-03-01   \n",
       "2  5575-GNVDE 2022-04-01  56.95        One year           0   2022-03-01   \n",
       "3  5575-GNVDE 2022-05-01  56.95        One year           0   2022-03-01   \n",
       "4  5575-GNVDE 2022-06-01  56.95        One year           0   2022-03-01   \n",
       "\n",
       "   is_active  \n",
       "0          1  \n",
       "1          1  \n",
       "2          1  \n",
       "3          1  \n",
       "4          1  "
      ]
     },
     "execution_count": 1,
     "metadata": {},
     "output_type": "execute_result"
    }
   ],
   "source": [
    "import pandas as pd, numpy as np\n",
    "\n",
    "# Load raw dataset\n",
    "df = pd.read_csv(\"Telco-Customer-Churn.csv\")\n",
    "\n",
    "# Fake signup month (cohorts) across 2 years\n",
    "np.random.seed(42)\n",
    "months = pd.date_range(\"2021-01-01\", \"2023-12-01\", freq=\"MS\")\n",
    "df[\"signup_month\"] = np.random.choice(months, size=len(df))\n",
    "\n",
    "# Expand to customer-month rows\n",
    "subs = []\n",
    "for _, row in df.iterrows():\n",
    "    for t in range(1, row[\"tenure\"]+1):\n",
    "        m = row[\"signup_month\"] + pd.DateOffset(months=t-1)\n",
    "        churn_flag = 1 if (t == row[\"tenure\"] and row[\"Churn\"]==\"Yes\") else 0\n",
    "        subs.append([row[\"customerID\"], m, row[\"MonthlyCharges\"], row[\"Contract\"], churn_flag])\n",
    "\n",
    "subs = pd.DataFrame(subs, columns=[\"customer_id\",\"month\",\"mrr\",\"contract_type\",\"churn_flag\"])\n",
    "subs[\"cohort_month\"] = subs.groupby(\"customer_id\")[\"month\"].transform(\"min\")\n",
    "subs[\"is_active\"] = (subs[\"mrr\"] > 0).astype(int)\n",
    "\n",
    "subs.head()\n"
   ]
  },
  {
   "cell_type": "code",
   "execution_count": 2,
   "id": "7f305585-b1b8-40bc-9dcf-b5b6741bdb95",
   "metadata": {},
   "outputs": [],
   "source": [
    "subs.to_csv(\"subscriptions.csv\", index=False)\n"
   ]
  },
  {
   "cell_type": "code",
   "execution_count": 4,
   "id": "565922cb-cca2-4191-865f-8fb72640f843",
   "metadata": {},
   "outputs": [
    {
     "data": {
      "image/png": "[encoded data removed]",
      "text/plain": [
       "<Figure size 640x480 with 1 Axes>"
      ]
     },
     "metadata": {},
     "output_type": "display_data"
    }
   ],
   "source": [
    "from lifelines import KaplanMeierFitter\n",
    "import matplotlib.pyplot as plt\n",
    "\n",
    "survival = subs.groupby(\"customer_id\").agg(\n",
    "    tenure=(\"month\",\"count\"),\n",
    "    churned=(\"churn_flag\",\"max\")\n",
    ").reset_index()\n",
    "\n",
    "kmf = KaplanMeierFitter()\n",
    "kmf.fit(durations=survival[\"tenure\"], event_observed=survival[\"churned\"])\n",
    "kmf.plot()\n",
    "plt.title(\"Logo Retention Curve\")\n",
    "plt.xlabel(\"Months since signup\")\n",
    "plt.ylabel(\"Retention probability\")\n",
    "plt.show()\n"
   ]
  },
  {
   "cell_type": "code",
   "execution_count": 5,
   "id": "7616354e-113a-4285-aa97-f272b20495d6",
   "metadata": {},
   "outputs": [
    {
     "name": "stdout",
     "output_type": "stream",
     "text": [
      "ROC AUC: 0.6557315750873315\n"
     ]
    }
   ],
   "source": [
    "from sklearn.model_selection import train_test_split\n",
    "from sklearn.linear_model import LogisticRegression\n",
    "from sklearn.metrics import roc_auc_score\n",
    "\n",
    "# Label = churn next month\n",
    "subs[\"next_active\"] = subs.groupby(\"customer_id\")[\"is_active\"].shift(-1).fillna(0)\n",
    "subs[\"churn_next\"] = ((subs[\"is_active\"]==1) & (subs[\"next_active\"]==0)).astype(int)\n",
    "\n",
    "features = pd.get_dummies(subs[[\"mrr\",\"contract_type\",\"churn_next\"]], drop_first=True)\n",
    "X = features.drop(\"churn_next\",axis=1)\n",
    "y = features[\"churn_next\"]\n",
    "\n",
    "X_train,X_test,y_train,y_test = train_test_split(X,y,test_size=0.2,shuffle=False)\n",
    "\n",
    "model = LogisticRegression(max_iter=200,class_weight=\"balanced\")\n",
    "model.fit(X_train,y_train)\n",
    "\n",
    "pred = model.predict_proba(X_test)[:,1]\n",
    "print(\"ROC AUC:\", roc_auc_score(y_test,pred))\n"
   ]
  },
  {
   "cell_type": "code",
   "execution_count": 6,
   "id": "68e22089-7e43-413f-a9b1-7c3362b55fc8",
   "metadata": {},
   "outputs": [],
   "source": [
    "subs.to_csv(\"subs_export.csv\",index=False)\n"
   ]
  },
  {
   "cell_type": "code",
   "execution_count": null,
   "id": "6623abdf-72ea-46f7-a2f5-749deb8c038f",
   "metadata": {},
   "outputs": [],
   "source": []
  }
 ],
 "metadata": {
  "kernelspec": {
   "display_name": "Python [conda env:base] *",
   "language": "python",
   "name": "conda-base-py"
  },
  "language_info": {
   "codemirror_mode": {
    "name": "ipython",
    "version": 3
   },
   "file_extension": ".py",
   "mimetype": "text/x-python",
   "name": "python",
   "nbconvert_exporter": "python",
   "pygments_lexer": "ipython3",
   "version": "3.13.5"
  }
 },
 "nbformat": 4,
 "nbformat_minor": 5
}
